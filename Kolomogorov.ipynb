{
 "cells": [
  {
   "cell_type": "code",
   "execution_count": 1,
   "id": "0cd01167",
   "metadata": {},
   "outputs": [],
   "source": [
    "from qiskit import Aer, QuantumCircuit\n",
    "from qiskit_finance.circuit.library import NormalDistribution\n",
    "from qiskit.test.mock import FakeTokyo\n",
    "from qiskit.compiler import transpile\n",
    "import matplotlib.pyplot as plt\n",
    "import pandas as pd\n",
    "import math\n",
    "from scipy import stats\n",
    "import numpy as np\n",
    "%matplotlib inline\n",
    "plt.rcParams['figure.figsize'] = [10, 5]\n"
   ]
  },
  {
   "cell_type": "code",
   "execution_count": 109,
   "id": "c45afa34",
   "metadata": {},
   "outputs": [],
   "source": [
    "#qc = QuantumCircuit(8)\n",
    "#qc.h(range(8))\n",
    "qc = NormalDistribution(8, mu=0, sigma=0.1)\n",
    "#backend = FakeTokyo()\n",
    "#qc = transpile(qc, backend=backend, seed_transpiler=11, optimization_level=0)\n",
    "qc.measure_all()\n",
    "for i in range(0,64):\n",
    "    qc = qc.decompose()\n",
    "sim = Aer.get_backend('aer_simulator')\n",
    "result = sim.run(qc, shots=100000, memory=True).result()\n",
    "counts = result.get_counts()\n",
    "memory = result.get_memory()"
   ]
  },
  {
   "cell_type": "code",
   "execution_count": 110,
   "id": "f40c400d",
   "metadata": {},
   "outputs": [
    {
     "data": {
      "image/png": "[encoded data removed]",
      "text/plain": [
       "<Figure size 720x360 with 1 Axes>"
      ]
     },
     "metadata": {
      "needs_background": "light"
     },
     "output_type": "display_data"
    }
   ],
   "source": [
    "plt.bar([int(x, 2) for x in counts.keys()], counts.values(), width=1)\n",
    "plt.show()"
   ]
  },
  {
   "cell_type": "code",
   "execution_count": 111,
   "id": "efb0f1bc",
   "metadata": {},
   "outputs": [],
   "source": [
    "memory = [int(x, 2) for x in memory]\n",
    "memory = np.clip(np.divide(memory, 255), 0.0001, 0.9999)"
   ]
  },
  {
   "cell_type": "markdown",
   "id": "2dd753d8",
   "metadata": {},
   "source": [
    "### metoda asta e numai pentru uniforma, vezi aici: https://www.eg.bucknell.edu/~xmeng/Course/CS6337/Note/master/node43.html\n",
    "### Implementeaza cu totul formula aia de sus, nu face cu i/N acolo la maxim"
   ]
  },
  {
   "cell_type": "code",
   "execution_count": 130,
   "id": "b1b31012",
   "metadata": {},
   "outputs": [
    {
     "name": "stdout",
     "output_type": "stream",
     "text": [
      "-0.00010101109141330447\n",
      "0.9998880380282494\n"
     ]
    },
    {
     "data": {
      "image/png": "[encoded data removed]",
      "text/plain": [
       "<Figure size 720x360 with 1 Axes>"
      ]
     },
     "metadata": {
      "needs_background": "light"
     },
     "output_type": "display_data"
    }
   ],
   "source": [
    "basis = np.random.normal(loc=np.mean(memory), scale=np.std(memory), size=100000)\n",
    "basis_plot = np.round(basis * 255)\n",
    "basis_plot = np.clip(np.divide(basis_plot, 255), 0.0001, 0.9999)\n",
    "basis_plot_uniques = list(set(basis_plot))\n",
    "basis_plot = {i: np.count_nonzero(basis_plot == i) for i in basis_plot_uniques}\n",
    "plt.bar(basis_plot.keys(), basis_plot.values(), width=1)\n",
    "D_plus = 0\n",
    "D_minus = 0\n",
    "N = len(memory)\n",
    "memory_cdf = np.sort(memory)\n",
    "basis_cdf = np.sort(basis)\n",
    "#arange1 = np.arange(1.0, N + 1) / N\n",
    "#arange2 = np.arange(0.0, N) / N\n",
    "arange1 = basis_cdf / N\n",
    "arange2 = basis_cdf / N\n",
    "D_plus = (arange1 - memory_cdf).max()\n",
    "D_minus = (memory_cdf - arange2).max()\n",
    "print(D_plus)\n",
    "print(D_minus)\n"
   ]
  },
  {
   "cell_type": "code",
   "execution_count": 119,
   "id": "666f7bcb",
   "metadata": {},
   "outputs": [
    {
     "data": {
      "text/plain": [
       "KstestResult(statistic=0.9508551771645074, pvalue=0.0)"
      ]
     },
     "execution_count": 119,
     "metadata": {},
     "output_type": "execute_result"
    }
   ],
   "source": [
    "test = stats.kstest(memory, 'norm', args=(0, 0.1))\n",
    "test"
   ]
  },
  {
   "cell_type": "code",
   "execution_count": 13,
   "id": "2e436ea9",
   "metadata": {},
   "outputs": [
    {
     "ename": "MemoryError",
     "evalue": "Unable to allocate 781. KiB for an array with shape (100000,) and data type float64",
     "output_type": "error",
     "traceback": [
      "\u001b[1;31m---------------------------------------------------------------------------\u001b[0m",
      "\u001b[1;31mMemoryError\u001b[0m                               Traceback (most recent call last)",
      "\u001b[1;32mC:\\Users\\STOIAN~1\\AppData\\Local\\Temp/ipykernel_26856/783040568.py\u001b[0m in \u001b[0;36m<module>\u001b[1;34m\u001b[0m\n\u001b[0;32m      7\u001b[0m \u001b[0marange2\u001b[0m \u001b[1;33m=\u001b[0m \u001b[0mnp\u001b[0m\u001b[1;33m.\u001b[0m\u001b[0marange\u001b[0m\u001b[1;33m(\u001b[0m\u001b[1;36m0.0\u001b[0m\u001b[1;33m,\u001b[0m \u001b[0mN\u001b[0m\u001b[1;33m)\u001b[0m \u001b[1;33m/\u001b[0m \u001b[0mN\u001b[0m\u001b[1;33m\u001b[0m\u001b[1;33m\u001b[0m\u001b[0m\n\u001b[0;32m      8\u001b[0m \u001b[1;32mfor\u001b[0m \u001b[0mi\u001b[0m \u001b[1;32min\u001b[0m \u001b[0mrange\u001b[0m\u001b[1;33m(\u001b[0m\u001b[1;36m1\u001b[0m\u001b[1;33m,\u001b[0m \u001b[0mN\u001b[0m \u001b[1;33m+\u001b[0m \u001b[1;36m1\u001b[0m\u001b[1;33m)\u001b[0m\u001b[1;33m:\u001b[0m\u001b[1;33m\u001b[0m\u001b[1;33m\u001b[0m\u001b[0m\n\u001b[1;32m----> 9\u001b[1;33m     \u001b[0mx\u001b[0m \u001b[1;33m=\u001b[0m \u001b[0marange1\u001b[0m \u001b[1;33m-\u001b[0m \u001b[0mmemory\u001b[0m\u001b[1;33m[\u001b[0m\u001b[0mi\u001b[0m\u001b[1;33m-\u001b[0m\u001b[1;36m1\u001b[0m\u001b[1;33m]\u001b[0m\u001b[1;33m\u001b[0m\u001b[1;33m\u001b[0m\u001b[0m\n\u001b[0m\u001b[0;32m     10\u001b[0m     \u001b[0mD_plus\u001b[0m\u001b[1;33m.\u001b[0m\u001b[0mappend\u001b[0m\u001b[1;33m(\u001b[0m\u001b[0mx\u001b[0m\u001b[1;33m)\u001b[0m\u001b[1;33m\u001b[0m\u001b[1;33m\u001b[0m\u001b[0m\n\u001b[0;32m     11\u001b[0m \u001b[1;33m\u001b[0m\u001b[0m\n",
      "\u001b[1;31mMemoryError\u001b[0m: Unable to allocate 781. KiB for an array with shape (100000,) and data type float64"
     ]
    }
   ],
   "source": [
    "basis_uniform = np.random.uniform(0, 1, 100000)\n",
    "D_plus = []\n",
    "D_minus = []\n",
    "N = len(memory)\n",
    "memory = np.sort(memory)\n",
    "arange1 = np.arange(1.0, N + 1) / N\n",
    "arange2 = np.arange(0.0, N) / N\n",
    "for i in range(1, N + 1):\n",
    "    x = arange1 - memory[i-1]\n",
    "    D_plus.append(x)\n",
    "\n",
    "for i in range(1, N + 1):\n",
    "    y = memory[i-1] -  arange2\n",
    "    D_minus.append(y)\n",
    "    \n",
    "D_plus_max = max(D_plus)\n",
    "D_minus_max = max(D_minus)\n",
    "ans = max(D_plus_max, D_minus_max)\n",
    "ans"
   ]
  },
  {
   "cell_type": "code",
   "execution_count": 16,
   "id": "648eb93b",
   "metadata": {},
   "outputs": [
    {
     "data": {
      "text/plain": [
       "KstestResult(statistic=0.006055490196078428, pvalue=0.0013008652971341719)"
      ]
     },
     "execution_count": 16,
     "metadata": {},
     "output_type": "execute_result"
    }
   ],
   "source": [
    "test = stats.kstest(memory, 'uniform')\n",
    "test"
   ]
  },
  {
   "cell_type": "code",
   "execution_count": 3,
   "id": "69ee2086",
   "metadata": {},
   "outputs": [],
   "source": [
    "countstemp = {int(x, 2): counts[x] for x in counts.keys()}"
   ]
  },
  {
   "cell_type": "code",
   "execution_count": 4,
   "id": "5fdf3264",
   "metadata": {},
   "outputs": [],
   "source": [
    "df1_data = {\"number\": [int(x, 2) for x in counts.keys()], \"counts\": [x for x in counts.values()]}\n",
    "df1 = pd.DataFrame.from_dict(df1_data)"
   ]
  },
  {
   "cell_type": "code",
   "execution_count": 7,
   "id": "677e4aa1",
   "metadata": {},
   "outputs": [
    {
     "data": {
      "text/html": [
       "<div>\n",
       "<style scoped>\n",
       "    .dataframe tbody tr th:only-of-type {\n",
       "        vertical-align: middle;\n",
       "    }\n",
       "\n",
       "    .dataframe tbody tr th {\n",
       "        vertical-align: top;\n",
       "    }\n",
       "\n",
       "    .dataframe thead th {\n",
       "        text-align: right;\n",
       "    }\n",
       "</style>\n",
       "<table border=\"1\" class=\"dataframe\">\n",
       "  <thead>\n",
       "    <tr style=\"text-align: right;\">\n",
       "      <th></th>\n",
       "      <th>number</th>\n",
       "      <th>counts</th>\n",
       "    </tr>\n",
       "  </thead>\n",
       "  <tbody>\n",
       "    <tr>\n",
       "      <th>0</th>\n",
       "      <td>100</td>\n",
       "      <td>369</td>\n",
       "    </tr>\n",
       "    <tr>\n",
       "      <th>1</th>\n",
       "      <td>184</td>\n",
       "      <td>372</td>\n",
       "    </tr>\n",
       "    <tr>\n",
       "      <th>2</th>\n",
       "      <td>169</td>\n",
       "      <td>385</td>\n",
       "    </tr>\n",
       "    <tr>\n",
       "      <th>3</th>\n",
       "      <td>0</td>\n",
       "      <td>372</td>\n",
       "    </tr>\n",
       "    <tr>\n",
       "      <th>4</th>\n",
       "      <td>154</td>\n",
       "      <td>399</td>\n",
       "    </tr>\n",
       "    <tr>\n",
       "      <th>...</th>\n",
       "      <td>...</td>\n",
       "      <td>...</td>\n",
       "    </tr>\n",
       "    <tr>\n",
       "      <th>251</th>\n",
       "      <td>29</td>\n",
       "      <td>358</td>\n",
       "    </tr>\n",
       "    <tr>\n",
       "      <th>252</th>\n",
       "      <td>246</td>\n",
       "      <td>399</td>\n",
       "    </tr>\n",
       "    <tr>\n",
       "      <th>253</th>\n",
       "      <td>136</td>\n",
       "      <td>407</td>\n",
       "    </tr>\n",
       "    <tr>\n",
       "      <th>254</th>\n",
       "      <td>178</td>\n",
       "      <td>401</td>\n",
       "    </tr>\n",
       "    <tr>\n",
       "      <th>255</th>\n",
       "      <td>164</td>\n",
       "      <td>412</td>\n",
       "    </tr>\n",
       "  </tbody>\n",
       "</table>\n",
       "<p>256 rows × 2 columns</p>\n",
       "</div>"
      ],
      "text/plain": [
       "     number  counts\n",
       "0       100     369\n",
       "1       184     372\n",
       "2       169     385\n",
       "3         0     372\n",
       "4       154     399\n",
       "..      ...     ...\n",
       "251      29     358\n",
       "252     246     399\n",
       "253     136     407\n",
       "254     178     401\n",
       "255     164     412\n",
       "\n",
       "[256 rows x 2 columns]"
      ]
     },
     "execution_count": 7,
     "metadata": {},
     "output_type": "execute_result"
    }
   ],
   "source": [
    "df1"
   ]
  },
  {
   "cell_type": "code",
   "execution_count": 5,
   "id": "47e64f0b",
   "metadata": {
    "scrolled": true
   },
   "outputs": [
    {
     "data": {
      "text/plain": [
       "[332,\n",
       " 338,\n",
       " 344,\n",
       " 346,\n",
       " 347,\n",
       " 348,\n",
       " 352,\n",
       " 355,\n",
       " 356,\n",
       " 356,\n",
       " 358,\n",
       " 358,\n",
       " 358,\n",
       " 359,\n",
       " 360,\n",
       " 361,\n",
       " 361,\n",
       " 362,\n",
       " 363,\n",
       " 364,\n",
       " 364,\n",
       " 364,\n",
       " 365,\n",
       " 365,\n",
       " 366,\n",
       " 366,\n",
       " 366,\n",
       " 367,\n",
       " 367,\n",
       " 368,\n",
       " 368,\n",
       " 368,\n",
       " 368,\n",
       " 368,\n",
       " 368,\n",
       " 369,\n",
       " 369,\n",
       " 369,\n",
       " 369,\n",
       " 370,\n",
       " 370,\n",
       " 370,\n",
       " 370,\n",
       " 371,\n",
       " 372,\n",
       " 372,\n",
       " 372,\n",
       " 372,\n",
       " 372,\n",
       " 373,\n",
       " 373,\n",
       " 373,\n",
       " 373,\n",
       " 374,\n",
       " 374,\n",
       " 374,\n",
       " 375,\n",
       " 375,\n",
       " 375,\n",
       " 376,\n",
       " 376,\n",
       " 376,\n",
       " 377,\n",
       " 377,\n",
       " 377,\n",
       " 377,\n",
       " 377,\n",
       " 377,\n",
       " 377,\n",
       " 378,\n",
       " 378,\n",
       " 378,\n",
       " 378,\n",
       " 378,\n",
       " 378,\n",
       " 379,\n",
       " 379,\n",
       " 379,\n",
       " 379,\n",
       " 379,\n",
       " 380,\n",
       " 380,\n",
       " 380,\n",
       " 381,\n",
       " 381,\n",
       " 381,\n",
       " 381,\n",
       " 381,\n",
       " 381,\n",
       " 382,\n",
       " 382,\n",
       " 382,\n",
       " 382,\n",
       " 382,\n",
       " 383,\n",
       " 383,\n",
       " 384,\n",
       " 384,\n",
       " 384,\n",
       " 384,\n",
       " 384,\n",
       " 385,\n",
       " 385,\n",
       " 385,\n",
       " 385,\n",
       " 385,\n",
       " 386,\n",
       " 386,\n",
       " 386,\n",
       " 386,\n",
       " 386,\n",
       " 387,\n",
       " 387,\n",
       " 387,\n",
       " 387,\n",
       " 387,\n",
       " 387,\n",
       " 387,\n",
       " 388,\n",
       " 388,\n",
       " 388,\n",
       " 388,\n",
       " 389,\n",
       " 389,\n",
       " 389,\n",
       " 390,\n",
       " 390,\n",
       " 390,\n",
       " 390,\n",
       " 391,\n",
       " 391,\n",
       " 391,\n",
       " 391,\n",
       " 392,\n",
       " 392,\n",
       " 392,\n",
       " 392,\n",
       " 392,\n",
       " 393,\n",
       " 393,\n",
       " 393,\n",
       " 394,\n",
       " 394,\n",
       " 394,\n",
       " 395,\n",
       " 395,\n",
       " 395,\n",
       " 395,\n",
       " 396,\n",
       " 396,\n",
       " 396,\n",
       " 396,\n",
       " 396,\n",
       " 396,\n",
       " 397,\n",
       " 397,\n",
       " 397,\n",
       " 397,\n",
       " 397,\n",
       " 398,\n",
       " 398,\n",
       " 398,\n",
       " 398,\n",
       " 399,\n",
       " 399,\n",
       " 399,\n",
       " 399,\n",
       " 399,\n",
       " 399,\n",
       " 399,\n",
       " 399,\n",
       " 399,\n",
       " 400,\n",
       " 400,\n",
       " 400,\n",
       " 400,\n",
       " 400,\n",
       " 401,\n",
       " 401,\n",
       " 401,\n",
       " 401,\n",
       " 401,\n",
       " 402,\n",
       " 402,\n",
       " 402,\n",
       " 403,\n",
       " 403,\n",
       " 403,\n",
       " 403,\n",
       " 403,\n",
       " 403,\n",
       " 405,\n",
       " 405,\n",
       " 405,\n",
       " 405,\n",
       " 405,\n",
       " 406,\n",
       " 406,\n",
       " 407,\n",
       " 407,\n",
       " 407,\n",
       " 408,\n",
       " 408,\n",
       " 408,\n",
       " 408,\n",
       " 408,\n",
       " 409,\n",
       " 409,\n",
       " 410,\n",
       " 410,\n",
       " 410,\n",
       " 410,\n",
       " 410,\n",
       " 411,\n",
       " 411,\n",
       " 411,\n",
       " 411,\n",
       " 411,\n",
       " 412,\n",
       " 412,\n",
       " 412,\n",
       " 412,\n",
       " 412,\n",
       " 412,\n",
       " 412,\n",
       " 413,\n",
       " 413,\n",
       " 414,\n",
       " 415,\n",
       " 415,\n",
       " 415,\n",
       " 416,\n",
       " 416,\n",
       " 416,\n",
       " 417,\n",
       " 418,\n",
       " 418,\n",
       " 418,\n",
       " 418,\n",
       " 419,\n",
       " 420,\n",
       " 420,\n",
       " 422,\n",
       " 423,\n",
       " 423,\n",
       " 423,\n",
       " 424,\n",
       " 425,\n",
       " 427,\n",
       " 438,\n",
       " 440,\n",
       " 441,\n",
       " 442,\n",
       " 444,\n",
       " 448,\n",
       " 459]"
      ]
     },
     "execution_count": 5,
     "metadata": {},
     "output_type": "execute_result"
    }
   ],
   "source": [
    "kolomogorov_counts = df1['counts'].to_list()\n",
    "kolomogorov_counts.sort()\n",
    "kolomogorov_counts"
   ]
  },
  {
   "cell_type": "code",
   "execution_count": 53,
   "id": "2674f368",
   "metadata": {},
   "outputs": [
    {
     "data": {
      "text/plain": [
       "454.0078125"
      ]
     },
     "execution_count": 53,
     "metadata": {},
     "output_type": "execute_result"
    }
   ],
   "source": [
    "D_plus = []\n",
    "D_minus = []\n",
    "N = len(kolomogorov_counts)\n",
    "for i in range(1, N + 1):\n",
    "    x = i / N - kolomogorov_counts[i-1]\n",
    "    D_plus.append(x)\n",
    "\n",
    "for i in range(1, N + 1):\n",
    "    y =(i-1)/N\n",
    "    y =kolomogorov_counts[i-1]-y\n",
    "    D_minus.append(y)\n",
    "    \n",
    "D_plus_max = max(D_plus)\n",
    "D_minus_max = max(D_minus)\n",
    "ans = max(D_plus_max, D_minus_max)\n",
    "ans"
   ]
  },
  {
   "cell_type": "code",
   "execution_count": 6,
   "id": "18f1d8c0",
   "metadata": {},
   "outputs": [
    {
     "data": {
      "image/png": "[encoded data removed]",
      "text/plain": [
       "<Figure size 720x360 with 1 Axes>"
      ]
     },
     "metadata": {
      "needs_background": "light"
     },
     "output_type": "display_data"
    }
   ],
   "source": [
    "plt.bar([int(x, 2) for x in counts.keys()], counts.values(), width=1)\n",
    "plt.show()"
   ]
  },
  {
   "cell_type": "code",
   "execution_count": 34,
   "id": "53f6de45",
   "metadata": {
    "collapsed": true
   },
   "outputs": [
    {
     "ename": "ValueError",
     "evalue": "[380, 382, 380, 392, 391, 380, 383, 373, 393, 350, 386, 380, 426, 387, 425, 370, 405, 368, 422, 384, 393, 393, 416, 403, 384, 425, 358, 409, 398, 424, 406, 404, 411, 374, 370, 397, 424, 435, 417, 385, 403, 391, 415, 369, 394, 379, 399, 395, 369, 379, 410, 398, 401, 392, 370, 390, 347, 409, 390, 377, 368, 375, 382, 371, 390, 398, 430, 376, 397, 426, 344, 383, 407, 417, 388, 408, 412, 366, 372, 421, 404, 432, 374, 369, 388, 360, 375, 370, 386, 418, 385, 378, 394, 375, 370, 436, 410, 403, 386, 377, 413, 391, 354, 379, 398, 385, 382, 367, 379, 394, 394, 367, 382, 410, 378, 392, 394, 379, 381, 402, 388, 395, 371, 455, 358, 361, 351, 333, 399, 384, 417, 436, 393, 406, 383, 411, 387, 401, 411, 391, 378, 387, 436, 367, 363, 370, 393, 392, 416, 399, 371, 381, 392, 375, 403, 388, 416, 405, 392, 399, 379, 399, 390, 422, 393, 388, 390, 374, 422, 391, 410, 418, 415, 381, 392, 425, 414, 383, 344, 415, 399, 416, 356, 367, 373, 373, 386, 405, 446, 389, 410, 414, 369, 388, 382, 407, 406, 371, 403, 390, 387, 386, 436, 375, 369, 375, 411, 403, 368, 363, 359, 362, 367, 371, 419, 392, 373, 369, 403, 401, 400, 403, 395, 384, 402, 419, 368, 366, 377, 389, 394, 398, 412, 391, 411, 363, 359, 428, 341, 371, 408, 366, 407, 387, 367, 400, 366, 392, 376, 402, 384, 385, 392, 382, 407, 368] cannot be used to seed a numpy.random.RandomState instance",
     "output_type": "error",
     "traceback": [
      "\u001b[1;31m---------------------------------------------------------------------------\u001b[0m",
      "\u001b[1;31mValueError\u001b[0m                                Traceback (most recent call last)",
      "\u001b[1;32mC:\\Users\\STOIAN~1\\AppData\\Local\\Temp/ipykernel_2712/2345831189.py\u001b[0m in \u001b[0;36m<module>\u001b[1;34m\u001b[0m\n\u001b[0;32m      1\u001b[0m \u001b[1;31m#x = stats.kstest(list(counts.values()), 'norm')\u001b[0m\u001b[1;33m\u001b[0m\u001b[1;33m\u001b[0m\u001b[1;33m\u001b[0m\u001b[0m\n\u001b[1;32m----> 2\u001b[1;33m \u001b[0mx\u001b[0m \u001b[1;33m=\u001b[0m \u001b[0mstats\u001b[0m\u001b[1;33m.\u001b[0m\u001b[0mkstest\u001b[0m\u001b[1;33m(\u001b[0m\u001b[0mstats\u001b[0m\u001b[1;33m.\u001b[0m\u001b[0mnorm\u001b[0m\u001b[1;33m.\u001b[0m\u001b[0mrvs\u001b[0m\u001b[1;33m(\u001b[0m\u001b[0msize\u001b[0m\u001b[1;33m=\u001b[0m\u001b[0mlen\u001b[0m\u001b[1;33m(\u001b[0m\u001b[0mcounts\u001b[0m\u001b[1;33m.\u001b[0m\u001b[0mvalues\u001b[0m\u001b[1;33m(\u001b[0m\u001b[1;33m)\u001b[0m\u001b[1;33m)\u001b[0m\u001b[1;33m,\u001b[0m \u001b[0mrandom_state\u001b[0m\u001b[1;33m=\u001b[0m\u001b[0mlist\u001b[0m\u001b[1;33m(\u001b[0m\u001b[0mcounts\u001b[0m\u001b[1;33m.\u001b[0m\u001b[0mvalues\u001b[0m\u001b[1;33m(\u001b[0m\u001b[1;33m)\u001b[0m\u001b[1;33m)\u001b[0m\u001b[1;33m)\u001b[0m\u001b[1;33m,\u001b[0m \u001b[0mstats\u001b[0m\u001b[1;33m.\u001b[0m\u001b[0mnorm\u001b[0m\u001b[1;33m.\u001b[0m\u001b[0mcdf\u001b[0m\u001b[1;33m)\u001b[0m\u001b[1;33m\u001b[0m\u001b[1;33m\u001b[0m\u001b[0m\n\u001b[0m",
      "\u001b[1;32m~\\AppData\\Roaming\\Python\\Python39\\site-packages\\scipy\\stats\\_distn_infrastructure.py\u001b[0m in \u001b[0;36mrvs\u001b[1;34m(self, *args, **kwds)\u001b[0m\n\u001b[0;32m   1073\u001b[0m         \u001b[1;32mif\u001b[0m \u001b[0mrndm\u001b[0m \u001b[1;32mis\u001b[0m \u001b[1;32mnot\u001b[0m \u001b[1;32mNone\u001b[0m\u001b[1;33m:\u001b[0m\u001b[1;33m\u001b[0m\u001b[1;33m\u001b[0m\u001b[0m\n\u001b[0;32m   1074\u001b[0m             \u001b[0mrandom_state_saved\u001b[0m \u001b[1;33m=\u001b[0m \u001b[0mself\u001b[0m\u001b[1;33m.\u001b[0m\u001b[0m_random_state\u001b[0m\u001b[1;33m\u001b[0m\u001b[1;33m\u001b[0m\u001b[0m\n\u001b[1;32m-> 1075\u001b[1;33m             \u001b[0mrandom_state\u001b[0m \u001b[1;33m=\u001b[0m \u001b[0mcheck_random_state\u001b[0m\u001b[1;33m(\u001b[0m\u001b[0mrndm\u001b[0m\u001b[1;33m)\u001b[0m\u001b[1;33m\u001b[0m\u001b[1;33m\u001b[0m\u001b[0m\n\u001b[0m\u001b[0;32m   1076\u001b[0m         \u001b[1;32melse\u001b[0m\u001b[1;33m:\u001b[0m\u001b[1;33m\u001b[0m\u001b[1;33m\u001b[0m\u001b[0m\n\u001b[0;32m   1077\u001b[0m             \u001b[0mrandom_state\u001b[0m \u001b[1;33m=\u001b[0m \u001b[0mself\u001b[0m\u001b[1;33m.\u001b[0m\u001b[0m_random_state\u001b[0m\u001b[1;33m\u001b[0m\u001b[1;33m\u001b[0m\u001b[0m\n",
      "\u001b[1;32m~\\AppData\\Roaming\\Python\\Python39\\site-packages\\scipy\\_lib\\_util.py\u001b[0m in \u001b[0;36mcheck_random_state\u001b[1;34m(seed)\u001b[0m\n\u001b[0;32m    241\u001b[0m     \u001b[1;32mexcept\u001b[0m \u001b[0mAttributeError\u001b[0m\u001b[1;33m:\u001b[0m\u001b[1;33m\u001b[0m\u001b[1;33m\u001b[0m\u001b[0m\n\u001b[0;32m    242\u001b[0m         \u001b[1;32mpass\u001b[0m\u001b[1;33m\u001b[0m\u001b[1;33m\u001b[0m\u001b[0m\n\u001b[1;32m--> 243\u001b[1;33m     raise ValueError('%r cannot be used to seed a numpy.random.RandomState'\n\u001b[0m\u001b[0;32m    244\u001b[0m                      ' instance' % seed)\n\u001b[0;32m    245\u001b[0m \u001b[1;33m\u001b[0m\u001b[0m\n",
      "\u001b[1;31mValueError\u001b[0m: [380, 382, 380, 392, 391, 380, 383, 373, 393, 350, 386, 380, 426, 387, 425, 370, 405, 368, 422, 384, 393, 393, 416, 403, 384, 425, 358, 409, 398, 424, 406, 404, 411, 374, 370, 397, 424, 435, 417, 385, 403, 391, 415, 369, 394, 379, 399, 395, 369, 379, 410, 398, 401, 392, 370, 390, 347, 409, 390, 377, 368, 375, 382, 371, 390, 398, 430, 376, 397, 426, 344, 383, 407, 417, 388, 408, 412, 366, 372, 421, 404, 432, 374, 369, 388, 360, 375, 370, 386, 418, 385, 378, 394, 375, 370, 436, 410, 403, 386, 377, 413, 391, 354, 379, 398, 385, 382, 367, 379, 394, 394, 367, 382, 410, 378, 392, 394, 379, 381, 402, 388, 395, 371, 455, 358, 361, 351, 333, 399, 384, 417, 436, 393, 406, 383, 411, 387, 401, 411, 391, 378, 387, 436, 367, 363, 370, 393, 392, 416, 399, 371, 381, 392, 375, 403, 388, 416, 405, 392, 399, 379, 399, 390, 422, 393, 388, 390, 374, 422, 391, 410, 418, 415, 381, 392, 425, 414, 383, 344, 415, 399, 416, 356, 367, 373, 373, 386, 405, 446, 389, 410, 414, 369, 388, 382, 407, 406, 371, 403, 390, 387, 386, 436, 375, 369, 375, 411, 403, 368, 363, 359, 362, 367, 371, 419, 392, 373, 369, 403, 401, 400, 403, 395, 384, 402, 419, 368, 366, 377, 389, 394, 398, 412, 391, 411, 363, 359, 428, 341, 371, 408, 366, 407, 387, 367, 400, 366, 392, 376, 402, 384, 385, 392, 382, 407, 368] cannot be used to seed a numpy.random.RandomState instance"
     ]
    }
   ],
   "source": [
    "#x = stats.kstest(list(counts.values()), 'norm')\n",
    "x = stats.kstest(stats.norm.rvs(size=len(counts.values()), random_state=list(counts.values())), stats.norm.cdf)"
   ]
  },
  {
   "cell_type": "code",
   "execution_count": 48,
   "id": "5550e7c8",
   "metadata": {},
   "outputs": [
    {
     "data": {
      "text/plain": [
       "KstestResult(statistic=0.99617, pvalue=0.0)"
      ]
     },
     "execution_count": 48,
     "metadata": {},
     "output_type": "execute_result"
    }
   ],
   "source": [
    "numbers = [int(x, 2) for x in memory]\n",
    "numbers_norm = [x / 256 for x in numbers]\n",
    "x = stats.kstest(numbers, 'uniform')\n",
    "x"
   ]
  },
  {
   "cell_type": "code",
   "execution_count": 3,
   "id": "b8f215dd",
   "metadata": {},
   "outputs": [],
   "source": [
    "countstemp = {int(x, 2): counts[x] for x in counts.keys()}"
   ]
  },
  {
   "cell_type": "code",
   "execution_count": 9,
   "id": "5fba7d56",
   "metadata": {},
   "outputs": [],
   "source": [
    "#x = np.linspace(min(countstemp.values()), max(countstemp.values()), len(countstemp.values()))\n",
    "x = np.random.uniform(min(countstemp.values()), max(countstemp.values()), len(countstemp.values()))\n",
    "test = stats.kstest(list(countstemp.values()), x)"
   ]
  },
  {
   "cell_type": "code",
   "execution_count": 11,
   "id": "cd9e7d2c",
   "metadata": {},
   "outputs": [
    {
     "data": {
      "text/plain": [
       "KstestResult(statistic=0.296875, pvalue=2.360504702132584e-10)"
      ]
     },
     "execution_count": 11,
     "metadata": {},
     "output_type": "execute_result"
    }
   ],
   "source": [
    "test"
   ]
  }
 ],
 "metadata": {
  "kernelspec": {
   "display_name": "Python 3 (ipykernel)",
   "language": "python",
   "name": "python3"
  },
  "language_info": {
   "codemirror_mode": {
    "name": "ipython",
    "version": 3
   },
   "file_extension": ".py",
   "mimetype": "text/x-python",
   "name": "python",
   "nbconvert_exporter": "python",
   "pygments_lexer": "ipython3",
   "version": "3.9.6"
  }
 },
 "nbformat": 4,
 "nbformat_minor": 5
}
