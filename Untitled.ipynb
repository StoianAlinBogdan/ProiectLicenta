{
 "cells": [
  {
   "cell_type": "code",
   "execution_count": 61,
   "id": "0ee7fc90",
   "metadata": {},
   "outputs": [],
   "source": [
    "from qiskit import Aer, QuantumCircuit, execute\n",
    "from qiskit.visualization import plot_histogram\n",
    "import matplotlib.pyplot as plt\n",
    "import math\n",
    "import pandas as pd\n",
    "%matplotlib inline"
   ]
  },
  {
   "cell_type": "code",
   "execution_count": 29,
   "id": "dcfd58b3",
   "metadata": {},
   "outputs": [],
   "source": [
    "def prob_to_angle(prob):\n",
    "    return 2 * math.asin(math.sqrt(prob))"
   ]
  },
  {
   "cell_type": "code",
   "execution_count": 81,
   "id": "8000af4e",
   "metadata": {},
   "outputs": [
    {
     "ename": "QiskitError",
     "evalue": "'No counts for experiment \"0\"'",
     "output_type": "error",
     "traceback": [
      "\u001b[1;31m---------------------------------------------------------------------------\u001b[0m",
      "\u001b[1;31mQiskitError\u001b[0m                               Traceback (most recent call last)",
      "\u001b[1;32mC:\\Users\\STOIAN~1\\AppData\\Local\\Temp/ipykernel_11536/2302552778.py\u001b[0m in \u001b[0;36m<module>\u001b[1;34m\u001b[0m\n\u001b[0;32m     23\u001b[0m \u001b[0msim\u001b[0m \u001b[1;33m=\u001b[0m \u001b[0mAer\u001b[0m\u001b[1;33m.\u001b[0m\u001b[0mget_backend\u001b[0m\u001b[1;33m(\u001b[0m\u001b[1;34m'aer_simulator'\u001b[0m\u001b[1;33m)\u001b[0m\u001b[1;33m\u001b[0m\u001b[1;33m\u001b[0m\u001b[0m\n\u001b[0;32m     24\u001b[0m \u001b[0mresults\u001b[0m \u001b[1;33m=\u001b[0m \u001b[0msim\u001b[0m\u001b[1;33m.\u001b[0m\u001b[0mrun\u001b[0m\u001b[1;33m(\u001b[0m\u001b[0mqc\u001b[0m\u001b[1;33m,\u001b[0m \u001b[0mshots\u001b[0m\u001b[1;33m=\u001b[0m\u001b[1;36m10000000\u001b[0m\u001b[1;33m)\u001b[0m\u001b[1;33m.\u001b[0m\u001b[0mresult\u001b[0m\u001b[1;33m(\u001b[0m\u001b[1;33m)\u001b[0m\u001b[1;33m\u001b[0m\u001b[1;33m\u001b[0m\u001b[0m\n\u001b[1;32m---> 25\u001b[1;33m \u001b[0mcounts\u001b[0m \u001b[1;33m=\u001b[0m \u001b[0mresults\u001b[0m\u001b[1;33m.\u001b[0m\u001b[0mget_counts\u001b[0m\u001b[1;33m(\u001b[0m\u001b[1;33m)\u001b[0m\u001b[1;33m\u001b[0m\u001b[1;33m\u001b[0m\u001b[0m\n\u001b[0m\u001b[0;32m     26\u001b[0m \u001b[1;33m\u001b[0m\u001b[0m\n\u001b[0;32m     27\u001b[0m \u001b[1;31m#qc.draw(output='mpl')\u001b[0m\u001b[1;33m\u001b[0m\u001b[1;33m\u001b[0m\u001b[1;33m\u001b[0m\u001b[0m\n",
      "\u001b[1;32m~\\AppData\\Roaming\\Python\\Python39\\site-packages\\qiskit\\result\\result.py\u001b[0m in \u001b[0;36mget_counts\u001b[1;34m(self, experiment)\u001b[0m\n\u001b[0;32m    298\u001b[0m                 \u001b[0mdict_list\u001b[0m\u001b[1;33m.\u001b[0m\u001b[0mappend\u001b[0m\u001b[1;33m(\u001b[0m\u001b[0mstatevector\u001b[0m\u001b[1;33m.\u001b[0m\u001b[0mStatevector\u001b[0m\u001b[1;33m(\u001b[0m\u001b[0mvec\u001b[0m\u001b[1;33m)\u001b[0m\u001b[1;33m.\u001b[0m\u001b[0mprobabilities_dict\u001b[0m\u001b[1;33m(\u001b[0m\u001b[0mdecimals\u001b[0m\u001b[1;33m=\u001b[0m\u001b[1;36m15\u001b[0m\u001b[1;33m)\u001b[0m\u001b[1;33m)\u001b[0m\u001b[1;33m\u001b[0m\u001b[1;33m\u001b[0m\u001b[0m\n\u001b[0;32m    299\u001b[0m             \u001b[1;32melse\u001b[0m\u001b[1;33m:\u001b[0m\u001b[1;33m\u001b[0m\u001b[1;33m\u001b[0m\u001b[0m\n\u001b[1;32m--> 300\u001b[1;33m                 \u001b[1;32mraise\u001b[0m \u001b[0mQiskitError\u001b[0m\u001b[1;33m(\u001b[0m\u001b[1;34mf'No counts for experiment \"{repr(key)}\"'\u001b[0m\u001b[1;33m)\u001b[0m\u001b[1;33m\u001b[0m\u001b[1;33m\u001b[0m\u001b[0m\n\u001b[0m\u001b[0;32m    301\u001b[0m \u001b[1;33m\u001b[0m\u001b[0m\n\u001b[0;32m    302\u001b[0m         \u001b[1;31m# Return first item of dict_list if size is 1\u001b[0m\u001b[1;33m\u001b[0m\u001b[1;33m\u001b[0m\u001b[1;33m\u001b[0m\u001b[0m\n",
      "\u001b[1;31mQiskitError\u001b[0m: 'No counts for experiment \"0\"'"
     ]
    }
   ],
   "source": [
    "dist = {\n",
    "    '0000': 0.00835,\n",
    "    '0001': 0.00835,\n",
    "    '0010': 0.00835,\n",
    "    '0011': 0.04533,\n",
    "    '0100': 0.04533,\n",
    "    '0101': 0.04533,\n",
    "    '0110': 0.22733,\n",
    "    '0111': 0.22733,\n",
    "    '1000': 0.22733,\n",
    "    '1001': 0.04533,\n",
    "    '1010': 0.04533,\n",
    "    '1011': 0.04533,\n",
    "    '1100': 0.00652 - 0.001275,\n",
    "    '1101': 0.00652 - 0.001275,\n",
    "    '1110': 0.00652 - 0.001275,\n",
    "    '1111': 0.00652 - 0.001275\n",
    "}\n",
    "qc = QuantumCircuit(4)\n",
    "initial_state = list(map(lambda x: math.sqrt(x), dist.values()))\n",
    "qc.initialize(initial_state)\n",
    "\n",
    "sim = Aer.get_backend('aer_simulator')\n",
    "results = sim.run(qc, shots=10000000).result()\n",
    "counts = results.get_counts()\n",
    "\n",
    "#qc.draw(output='mpl')\n",
    "plt.bar([int(x,2) for x in counts.keys()], counts.values())\n",
    "plt.show()\n",
    "counts\n",
    "#qc.measure_all()\n",
    "#qc.draw(output='mpl')"
   ]
  },
  {
   "cell_type": "code",
   "execution_count": 31,
   "id": "49287e40",
   "metadata": {
    "scrolled": true
   },
   "outputs": [
    {
     "data": {
      "image/png": "[encoded data removed]",
      "text/plain": [
       "<Figure size 432x288 with 1 Axes>"
      ]
     },
     "metadata": {
      "needs_background": "light"
     },
     "output_type": "display_data"
    },
    {
     "data": {
      "text/plain": [
       "{'01101': 1741,\n",
       " '00100': 486835,\n",
       " '00110': 76958,\n",
       " '01000': 35529,\n",
       " '00000': 227423,\n",
       " '00010': 35583,\n",
       " '01110': 11928,\n",
       " '01100': 76471,\n",
       " '10100': 11067,\n",
       " '00101': 10874,\n",
       " '01010': 5600,\n",
       " '00111': 1755,\n",
       " '00001': 5141,\n",
       " '10000': 5266,\n",
       " '10110': 1734,\n",
       " '10010': 816,\n",
       " '01111': 273,\n",
       " '11100': 1633,\n",
       " '00011': 792,\n",
       " '01001': 798,\n",
       " '10101': 252,\n",
       " '11000': 773,\n",
       " '01011': 104,\n",
       " '11110': 302,\n",
       " '10001': 121,\n",
       " '10011': 19,\n",
       " '11010': 110,\n",
       " '10111': 33,\n",
       " '11111': 6,\n",
       " '11001': 18,\n",
       " '11101': 39,\n",
       " '11011': 6}"
      ]
     },
     "execution_count": 31,
     "metadata": {},
     "output_type": "execute_result"
    }
   ],
   "source": [
    "sim = Aer.get_backend('aer_simulator')\n",
    "result = sim.run(qc, shots=1000000).result()\n",
    "counts = result.get_counts()\n",
    "plt.bar([int(x, 2) for x in counts.keys()], counts.values())\n",
    "plt.show()\n",
    "counts"
   ]
  },
  {
   "cell_type": "code",
   "execution_count": 62,
   "id": "71b6daf2",
   "metadata": {},
   "outputs": [],
   "source": [
    "dist = {\n",
    "    '000': 0.04, # 0\n",
    "    '001': 0.06, # 1\n",
    "    '010': 0.07, # 2\n",
    "    '011': 0.52, # 3\n",
    "    '100': 0.09, # 4\n",
    "    '101': 0.03, # 5\n",
    "    '110': 0.08, # 6\n",
    "    '111': 0.11, # 7\n",
    "}"
   ]
  },
  {
   "cell_type": "code",
   "execution_count": null,
   "id": "1bb782b9",
   "metadata": {},
   "outputs": [],
   "source": []
  },
  {
   "cell_type": "code",
   "execution_count": null,
   "id": "d50fd905",
   "metadata": {},
   "outputs": [],
   "source": []
  }
 ],
 "metadata": {
  "kernelspec": {
   "display_name": "Python 3 (ipykernel)",
   "language": "python",
   "name": "python3"
  },
  "language_info": {
   "codemirror_mode": {
    "name": "ipython",
    "version": 3
   },
   "file_extension": ".py",
   "mimetype": "text/x-python",
   "name": "python",
   "nbconvert_exporter": "python",
   "pygments_lexer": "ipython3",
   "version": "3.9.6"
  }
 },
 "nbformat": 4,
 "nbformat_minor": 5
}
