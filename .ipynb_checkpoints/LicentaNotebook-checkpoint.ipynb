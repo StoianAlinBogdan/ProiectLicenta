{
 "cells": [
  {
   "cell_type": "markdown",
   "id": "6db2d9ab",
   "metadata": {},
   "source": [
    "#    Proiect licenta v. 1\n",
    "##   Toate circuitele, algoritmii si testele "
   ]
  },
  {
   "cell_type": "code",
   "execution_count": 40,
   "id": "0e215e69",
   "metadata": {},
   "outputs": [],
   "source": [
    "from qiskit import Aer, QuantumCircuit\n",
    "import matplotlib.pyplot as plt\n",
    "import pandas as pd\n",
    "import math\n",
    "from statsmodels.stats.weightstats import ztest\n",
    "from scipy import stats\n",
    "import numpy as np\n",
    "\n",
    "%matplotlib inline\n",
    "plt.rcParams['figure.figsize'] = [10, 5]"
   ]
  },
  {
   "cell_type": "markdown",
   "id": "c5cc0ac5",
   "metadata": {},
   "source": [
    "# Prima parte - Distributie uniforma"
   ]
  },
  {
   "cell_type": "markdown",
   "id": "1eb9c68c",
   "metadata": {},
   "source": [
    "### Ruleaza doar una dintre celulele cu circuite de mai jos!"
   ]
  },
  {
   "cell_type": "code",
   "execution_count": 4,
   "id": "b7d3061b",
   "metadata": {},
   "outputs": [
    {
     "data": {
      "image/png": "[encoded data removed]",
      "text/plain": [
       "<Figure size 297.479x144.48 with 1 Axes>"
      ]
     },
     "execution_count": 4,
     "metadata": {},
     "output_type": "execute_result"
    }
   ],
   "source": [
    "# Prima varianta - 800000 de rulari cu un singur qubit pentru 100000 nr pe 8 biti\n",
    "# prima oara cu poarta Hadamard, a doua oara cu o rotatie de 90 de grade in jurul axei y\n",
    "qc_uniform = QuantumCircuit(1) \n",
    "qc_uniform.h(0)\n",
    "qc_uniform.measure_all()\n",
    "qc_uniform.draw(output='mpl')"
   ]
  },
  {
   "cell_type": "code",
   "execution_count": 45,
   "id": "2a17f5e6",
   "metadata": {},
   "outputs": [
    {
     "data": {
      "image/png": "[encoded data removed]",
      "text/plain": [
       "<Figure size 297.479x144.48 with 1 Axes>"
      ]
     },
     "execution_count": 45,
     "metadata": {},
     "output_type": "execute_result"
    }
   ],
   "source": [
    "# A doua varianta - Rotatie generica cu 90 de grade in jurul axei y\n",
    "# NB: se stie ca qubitii din qiskit sunt initializati in starea |0>!\n",
    "qc_uniform = QuantumCircuit(1)\n",
    "qc_uniform.ry(math.pi/2, 0)\n",
    "qc_uniform.measure_all()\n",
    "qc_uniform.draw(output='mpl')"
   ]
  },
  {
   "cell_type": "code",
   "execution_count": 46,
   "id": "881ff805",
   "metadata": {},
   "outputs": [],
   "source": [
    "sim = Aer.get_backend('aer_simulator')\n",
    "result1 = sim.run(qc_uniform, shots=800000, memory=True).result()\n",
    "counts1 = result1.get_counts()\n",
    "memory1 = result1.get_memory()"
   ]
  },
  {
   "cell_type": "code",
   "execution_count": 47,
   "id": "19c68bb6",
   "metadata": {},
   "outputs": [
    {
     "data": {
      "text/html": [
       "<div>\n",
       "<style scoped>\n",
       "    .dataframe tbody tr th:only-of-type {\n",
       "        vertical-align: middle;\n",
       "    }\n",
       "\n",
       "    .dataframe tbody tr th {\n",
       "        vertical-align: top;\n",
       "    }\n",
       "\n",
       "    .dataframe thead th {\n",
       "        text-align: right;\n",
       "    }\n",
       "</style>\n",
       "<table border=\"1\" class=\"dataframe\">\n",
       "  <thead>\n",
       "    <tr style=\"text-align: right;\">\n",
       "      <th></th>\n",
       "      <th>number</th>\n",
       "      <th>counts</th>\n",
       "    </tr>\n",
       "  </thead>\n",
       "  <tbody>\n",
       "    <tr>\n",
       "      <th>0</th>\n",
       "      <td>0</td>\n",
       "      <td>389</td>\n",
       "    </tr>\n",
       "    <tr>\n",
       "      <th>1</th>\n",
       "      <td>1</td>\n",
       "      <td>397</td>\n",
       "    </tr>\n",
       "    <tr>\n",
       "      <th>2</th>\n",
       "      <td>2</td>\n",
       "      <td>383</td>\n",
       "    </tr>\n",
       "    <tr>\n",
       "      <th>3</th>\n",
       "      <td>3</td>\n",
       "      <td>374</td>\n",
       "    </tr>\n",
       "    <tr>\n",
       "      <th>4</th>\n",
       "      <td>4</td>\n",
       "      <td>406</td>\n",
       "    </tr>\n",
       "    <tr>\n",
       "      <th>...</th>\n",
       "      <td>...</td>\n",
       "      <td>...</td>\n",
       "    </tr>\n",
       "    <tr>\n",
       "      <th>251</th>\n",
       "      <td>251</td>\n",
       "      <td>416</td>\n",
       "    </tr>\n",
       "    <tr>\n",
       "      <th>252</th>\n",
       "      <td>252</td>\n",
       "      <td>405</td>\n",
       "    </tr>\n",
       "    <tr>\n",
       "      <th>253</th>\n",
       "      <td>253</td>\n",
       "      <td>397</td>\n",
       "    </tr>\n",
       "    <tr>\n",
       "      <th>254</th>\n",
       "      <td>254</td>\n",
       "      <td>341</td>\n",
       "    </tr>\n",
       "    <tr>\n",
       "      <th>255</th>\n",
       "      <td>255</td>\n",
       "      <td>379</td>\n",
       "    </tr>\n",
       "  </tbody>\n",
       "</table>\n",
       "<p>256 rows × 2 columns</p>\n",
       "</div>"
      ],
      "text/plain": [
       "     number  counts\n",
       "0         0     389\n",
       "1         1     397\n",
       "2         2     383\n",
       "3         3     374\n",
       "4         4     406\n",
       "..      ...     ...\n",
       "251     251     416\n",
       "252     252     405\n",
       "253     253     397\n",
       "254     254     341\n",
       "255     255     379\n",
       "\n",
       "[256 rows x 2 columns]"
      ]
     },
     "execution_count": 47,
     "metadata": {},
     "output_type": "execute_result"
    }
   ],
   "source": [
    "# concatenam bitii aleatori 8 cate 8 pentru a obtine numere pe 8 biti\n",
    "numbers1 = []\n",
    "c = 0\n",
    "temp = ''\n",
    "for i in range(len(memory1)):\n",
    "    temp = temp + memory1[i]\n",
    "    c = c + 1\n",
    "    if c == 8:\n",
    "        numbers1.append(temp)\n",
    "        temp = ''\n",
    "        c = 0\n",
    "numbers1 = [int(x, 2) for x in numbers1]\n",
    "unique_numbers1 = list(set(numbers1))\n",
    "my_counts1 = {x: numbers1.count(x) for x in unique_numbers1}\n",
    "df1_data = {\"number\": my_counts1.keys(), \"counts\": my_counts1.values()} # dataframe pentru usurinta\n",
    "df1 = pd.DataFrame.from_dict(df1_data)\n",
    "df1\n"
   ]
  },
  {
   "cell_type": "code",
   "execution_count": 25,
   "id": "2c60a6c6",
   "metadata": {},
   "outputs": [
    {
     "data": {
      "image/png": "[encoded data removed]",
      "text/plain": [
       "<Figure size 720x360 with 1 Axes>"
      ]
     },
     "metadata": {
      "needs_background": "light"
     },
     "output_type": "display_data"
    }
   ],
   "source": [
    "plt.bar(my_counts1.keys(), my_counts1.values(), width=1)\n",
    "plt.show()"
   ]
  },
  {
   "cell_type": "markdown",
   "id": "e1ec66d2",
   "metadata": {},
   "source": [
    "## Testul 1: test z vs. distributie uniforma aleatoare intre minim si maxim"
   ]
  },
  {
   "cell_type": "code",
   "execution_count": 38,
   "id": "45176293",
   "metadata": {},
   "outputs": [
    {
     "data": {
      "text/plain": [
       "-5.885899723296371"
      ]
     },
     "execution_count": 38,
     "metadata": {},
     "output_type": "execute_result"
    }
   ],
   "source": [
    "dist_uniform = np.random.randint(df1['counts'].min(), df1['counts'].max(), len(df1))\n",
    "numbers_dist_uniform = range(0, len(dist_uniform))\n",
    "dict_dist_uniform = {numbers_dist_uniform[i]: dist_uniform[i] for i in range(len(dist_uniform))}\n",
    "data_dist_uniform = {\"number\": dict_dist_uniform.keys(), \"counts\": dict_dist_uniform.values()}\n",
    "df1_2 = pd.DataFrame.from_dict(data_dist_uniform)\n",
    "z_calc = (df1['counts'].mean() - df1_2['counts'].mean()) / (math.sqrt(df1.var()['counts'] / len(df1['counts']) + df1_2.var()['counts'] / len(df1_2['counts'])))\n",
    "z_calc"
   ]
  },
  {
   "cell_type": "code",
   "execution_count": 39,
   "id": "ec77b17a",
   "metadata": {},
   "outputs": [
    {
     "data": {
      "text/plain": [
       "(-5.885899723296371, 3.958943071358524e-09)"
      ]
     },
     "execution_count": 39,
     "metadata": {},
     "output_type": "execute_result"
    }
   ],
   "source": [
    "'''\n",
    "varianta din biblioteca statsmodels - primul numar este scorul Z, al doilea valoarea p\n",
    "factor p foarte mic -> se respinge ipoteza nulului => cele doua esantioane sunt suficient de similare\n",
    "'''\n",
    "ztest(df1['counts'], df1_2['counts'])"
   ]
  },
  {
   "cell_type": "markdown",
   "id": "ca598373",
   "metadata": {},
   "source": [
    "## Testul 2: test kologomorov-smirnov pentru a compara distributia cu una uniforma"
   ]
  },
  {
   "cell_type": "code",
   "execution_count": 43,
   "id": "7c626eb6",
   "metadata": {},
   "outputs": [
    {
     "data": {
      "text/plain": [
       "KstestResult(statistic=0.30078125, pvalue=1.2759484876392345e-10)"
      ]
     },
     "execution_count": 43,
     "metadata": {},
     "output_type": "execute_result"
    }
   ],
   "source": [
    "'''\n",
    "Din pacate, desi testul este cu siguranta cel mai potrivit pentru cerintele mele, \n",
    "nu am gasit nici o sursa de explicatie foarte buna a testului pentru a o implementa eu \n",
    "Asadar, voi folosi numai implementarea din scipy.stats\n",
    "Din nou, valoare p mica -> se respinge ipoteza nulului -> \n",
    "-> cele doua distributii provin din aceeasi sursa\n",
    "'''\n",
    "stats.kstest(df1['counts'], df1_2['counts'])"
   ]
  },
  {
   "cell_type": "markdown",
   "id": "ce57c766",
   "metadata": {},
   "source": [
    "# Partea a doua - Distributie normala"
   ]
  },
  {
   "cell_type": "code",
   "execution_count": null,
   "id": "af59387e",
   "metadata": {},
   "outputs": [],
   "source": []
  },
  {
   "cell_type": "code",
   "execution_count": null,
   "id": "5a4bf6f4",
   "metadata": {},
   "outputs": [],
   "source": []
  }
 ],
 "metadata": {
  "kernelspec": {
   "display_name": "Python 3 (ipykernel)",
   "language": "python",
   "name": "python3"
  },
  "language_info": {
   "codemirror_mode": {
    "name": "ipython",
    "version": 3
   },
   "file_extension": ".py",
   "mimetype": "text/x-python",
   "name": "python",
   "nbconvert_exporter": "python",
   "pygments_lexer": "ipython3",
   "version": "3.9.6"
  }
 },
 "nbformat": 4,
 "nbformat_minor": 5
}
